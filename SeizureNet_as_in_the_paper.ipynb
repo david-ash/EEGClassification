{
 "cells": [
  {
   "cell_type": "code",
   "execution_count": 1,
   "metadata": {},
   "outputs": [
    {
     "name": "stderr",
     "output_type": "stream",
     "text": [
      "/home/ashish/anaconda3/lib/python3.6/site-packages/h5py/__init__.py:34: FutureWarning: Conversion of the second argument of issubdtype from `float` to `np.floating` is deprecated. In future, it will be treated as `np.float64 == np.dtype(float).type`.\n",
      "  from ._conv import register_converters as _register_converters\n"
     ]
    }
   ],
   "source": [
    "from tensorflow import Tensor\n",
    "from tensorflow.keras.layers import Input, Conv2D, ReLU, BatchNormalization,\\\n",
    "                                    AveragePooling2D, Flatten, Dense, Dropout,\\\n",
    "                                    Add\n",
    "from tensorflow.keras.models import Model"
   ]
  },
  {
   "cell_type": "markdown",
   "metadata": {},
   "source": [
    "Number of Parameters to be passed\n",
    "    i) Array conatining the length of the each dense block\n",
    "    ii) number of filter array"
   ]
  },
  {
   "cell_type": "code",
   "execution_count": 2,
   "metadata": {
    "collapsed": true
   },
   "outputs": [],
   "source": [
    "def create_seizure_net(num_filters_array, num_layer_array):\n",
    "    inputs = Input(shape=(224, 224, 3))\n",
    "    conv_pool = Conv2D(64, kernel_size=(7, 7), activation='relu', strides=(2, 2), padding='same')(inputs)\n",
    "    conv_pool = BatchNormalization()(conv_pool)\n",
    "    conv_pool = ReLU()(conv_pool)\n",
    "    conv_pool = AveragePooling2D(pool_size=(2, 2))(conv_pool)\n",
    "    \n",
    "    last_layer = Conv2D(num_filters_array[0], kernel_size=(1, 1), padding='same')(conv_pool)\n",
    "    db = create_dense_block(num_layer_array[0], last_layer, num_filters_array[0])\n",
    "    conv_layer = create_conv_block(db, int(num_filters_array[0]/2))\n",
    "    \n",
    "    last_layer = Conv2D(num_filters_array[1], kernel_size=(1, 1), padding='same')(conv_layer)\n",
    "    db = create_dense_block(num_layer_array[1], last_layer, num_filters_array[1])\n",
    "    conv_layer = create_conv_block(db, int(num_filters_array[1]/2))\n",
    "    \n",
    "    last_layer = Conv2D(num_filters_array[2], kernel_size=(1, 1), padding='same')(conv_layer)\n",
    "    db = create_dense_block(num_layer_array[2], last_layer, num_filters_array[2])\n",
    "    conv_layer = create_conv_block(db, int(num_filters_array[2]/2))\n",
    "    \n",
    "    last_layer = Conv2D(num_filters_array[3], kernel_size=(1, 1), padding='same')(conv_layer)\n",
    "    db = create_dense_block(num_layer_array[3], last_layer, num_filters_array[3])\n",
    "    db = Conv2D(num_filters_array[3], kernel_size=(7, 7), activation='relu')(db)\n",
    "\n",
    "    t = Flatten()(db)\n",
    "    outputs = Dense(5, activation='softmax')(t)\n",
    "    model = Model(inputs, outputs)\n",
    "    return model"
   ]
  },
  {
   "cell_type": "code",
   "execution_count": 3,
   "metadata": {
    "collapsed": true
   },
   "outputs": [],
   "source": [
    "def create_dense_block(num_layers, last_layer, num_filters):\n",
    "    dl1 = create_dense_layer(last_layer, num_filters)\n",
    "    for num in range(num_layers):\n",
    "        prev_layer = Add()([last_layer, dl1])\n",
    "        dl2 = create_dense_layer(prev_layer, num_filters)\n",
    "        last_layer = dl1\n",
    "        dl1 = dl2\n",
    "    prev_layer = Add()([last_layer, dl1])\n",
    "    return prev_layer"
   ]
  },
  {
   "cell_type": "code",
   "execution_count": 4,
   "metadata": {
    "collapsed": true
   },
   "outputs": [],
   "source": [
    "def create_dense_layer(prev_layers, num_filters):\n",
    "    conv_pool = Conv2D(num_filters, kernel_size=(1, 1), activation='relu', strides=1, padding=\"same\")(prev_layers)\n",
    "    conv_pool = BatchNormalization()(conv_pool)\n",
    "    conv_pool = ReLU()(conv_pool)\n",
    "    conv_pool = Conv2D(num_filters, kernel_size=(3, 3), activation='relu', strides=1, padding=\"same\")(conv_pool)\n",
    "    conv_pool = BatchNormalization()(conv_pool)\n",
    "    conv_pool = ReLU()(conv_pool)\n",
    "    conv_pool = Dropout(0.5)(conv_pool)\n",
    "    return conv_pool\n",
    "    "
   ]
  },
  {
   "cell_type": "code",
   "execution_count": 5,
   "metadata": {
    "collapsed": true
   },
   "outputs": [],
   "source": [
    "def create_conv_block(prev_layers, num_filters):\n",
    "    mid_layer = Conv2D(num_filters, kernel_size=(1, 1), activation='relu', strides=1, padding='same')(prev_layers)\n",
    "    mid_layer = BatchNormalization()(mid_layer)\n",
    "    mid_layer = AveragePooling2D(pool_size=(2, 2))(mid_layer)\n",
    "    return mid_layer"
   ]
  },
  {
   "cell_type": "code",
   "execution_count": null,
   "metadata": {
    "collapsed": true
   },
   "outputs": [],
   "source": [
    "num_filters_array = [256, 512, 1280, 1664]\n",
    "num_layer_array = [5, 11, 35, 23]\n",
    "model = create_seizure_net(num_filters_array, num_layer_array)\n",
    "model.summary()"
   ]
  },
  {
   "cell_type": "code",
   "execution_count": null,
   "metadata": {
    "collapsed": true
   },
   "outputs": [],
   "source": []
  },
  {
   "cell_type": "code",
   "execution_count": null,
   "metadata": {
    "collapsed": true
   },
   "outputs": [],
   "source": []
  }
 ],
 "metadata": {
  "kernelspec": {
   "display_name": "Python 3",
   "language": "python",
   "name": "python3"
  },
  "language_info": {
   "codemirror_mode": {
    "name": "ipython",
    "version": 3
   },
   "file_extension": ".py",
   "mimetype": "text/x-python",
   "name": "python",
   "nbconvert_exporter": "python",
   "pygments_lexer": "ipython3",
   "version": "3.6.3"
  }
 },
 "nbformat": 4,
 "nbformat_minor": 2
}
